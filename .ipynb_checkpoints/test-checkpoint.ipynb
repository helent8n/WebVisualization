{
 "cells": [
  {
   "cell_type": "code",
   "execution_count": 1,
   "metadata": {},
   "outputs": [
    {
     "name": "stdout",
     "output_type": "stream",
     "text": [
      "     date    analysis_tool     num1      database     num2        os      num3  bool \n",
      "0 2018-04-21     pandas     153.474246       mysql  0.658533         ios   74    True\n",
      "1 2018-04-13        sas     199.461669      sqlite  0.656985   windows 7   11   False\n",
      "2 2018-06-09      stata      12.918608      oracle  0.495707     android   25   False\n",
      "3 2018-04-24       spss      88.562111  sql server  0.113580   windows 7   42   False\n",
      "4 2018-05-05       spss     110.231277      oracle  0.660977  windows 10   76    True\n",
      "5 2018-04-05        sas     -68.140295  sql server  0.346894  windows 10    0    True\n",
      "6 2018-05-07      julia      12.874660    postgres  0.195217         ios   79    True\n",
      "7 2018-01-22          r     189.410928       mysql  0.234815  windows 10   56   False\n",
      "8 2018-01-12     pandas    -111.412564  sql server  0.580253      debian   30   False\n",
      "9 2018-04-12          r      38.963967    postgres  0.266604   windows 7   46   False\n"
     ]
    }
   ],
   "source": [
    "import pandas as pd\n",
    "import numpy as np\n",
    "\n",
    "pd.set_option('display.width', 1000)\n",
    "pd.set_option('colheader_justify', 'center')\n",
    "\n",
    "np.random.seed(6182018)\n",
    "demo_df = pd.DataFrame({'date': np.random.choice(pd.date_range('2018-01-01', '2018-06-18', freq='D'), 50),\n",
    "                        'analysis_tool': np.random.choice(['pandas', 'r', 'julia', 'sas', 'stata', 'spss'],50),              \n",
    "                        'database': np.random.choice(['postgres', 'mysql', 'sqlite', 'oracle', 'sql server', 'db2'],50), \n",
    "                        'os': np.random.choice(['windows 10', 'ubuntu', 'mac os', 'android', 'ios', 'windows 7', 'debian'],50), \n",
    "                        'num1': np.random.randn(50)*100,\n",
    "                        'num2': np.random.uniform(0,1,50),                   \n",
    "                        'num3': np.random.randint(100, size=50),\n",
    "                        'bool': np.random.choice([True, False], 50)\n",
    "                       },\n",
    "                        columns=['date', 'analysis_tool', 'num1', 'database', 'num2', 'os', 'num3', 'bool']\n",
    "          )\n",
    "\n",
    "\n",
    "print(demo_df.head(10))"
   ]
  },
  {
   "cell_type": "code",
   "execution_count": null,
   "metadata": {},
   "outputs": [],
   "source": []
  }
 ],
 "metadata": {
  "kernelspec": {
   "display_name": "Python (PythonData)",
   "language": "python",
   "name": "pythondata"
  },
  "language_info": {
   "codemirror_mode": {
    "name": "ipython",
    "version": 3
   },
   "file_extension": ".py",
   "mimetype": "text/x-python",
   "name": "python",
   "nbconvert_exporter": "python",
   "pygments_lexer": "ipython3",
   "version": "3.7.0"
  }
 },
 "nbformat": 4,
 "nbformat_minor": 2
}
